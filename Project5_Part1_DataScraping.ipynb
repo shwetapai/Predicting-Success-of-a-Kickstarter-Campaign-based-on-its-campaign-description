{
 "cells": [
  {
   "cell_type": "markdown",
   "metadata": {},
   "source": [
    "**Load the Web Robots database for Kickstarter projects, parse it to extract relevant information, and save the results in a table.**\n",
    "\n",
    "**Table Contents**\n",
    "\n",
    "**name** - project's title\n",
    "\n",
    "**category** - project's category as set by Kickstarter\n",
    "\n",
    "**hyperlink** - project's web page URL\n",
    "\n",
    "**currency** - type of currency used for fundraising\n",
    "\n",
    "**pledged** - total amount of money pledged by backers over the course of the project\n",
    "\n",
    "**goal** - funding goal set by the creator\n",
    "\n",
    "**location** - creator's location information"
   ]
  },
  {
   "cell_type": "code",
   "execution_count": 1,
   "metadata": {},
   "outputs": [],
   "source": [
    "import pandas as pd\n",
    "from sklearn.externals import joblib\n",
    "import json\n",
    "import time"
   ]
  },
  {
   "cell_type": "code",
   "execution_count": 2,
   "metadata": {},
   "outputs": [],
   "source": [
    "# Creating an empty DataFrame with labels of data to be collected\n",
    "df_project = pd.DataFrame(\n",
    "    columns=['name', 'category', 'hyperlink', 'currency', 'pledged', 'goal',\n",
    "             'location']\n",
    ")"
   ]
  },
  {
   "cell_type": "code",
   "execution_count": 4,
   "metadata": {},
   "outputs": [],
   "source": [
    "# Upload file file containing Web Robots data in JSON format\n",
    "filename = '/Users/shwetapai/Downloads/test5k.json'"
   ]
  },
  {
   "cell_type": "code",
   "execution_count": 7,
   "metadata": {},
   "outputs": [
    {
     "data": {
      "text/plain": [
       "{'table_id': 'Kickstarter',\n",
       " 'robot_id': 'Kickstarter',\n",
       " 'run_id': 'Kickstarter_2018-08-16T03_20_13_856Z',\n",
       " 'data': {'id': 245053912,\n",
       "  'photo': {'key': 'assets/016/825/284/f207e0d059e52c9bb9d165fd1b995cf6_original.jpg',\n",
       "   'full': 'https://ksr-ugc.imgix.net/assets/016/825/284/f207e0d059e52c9bb9d165fd1b995cf6_original.jpg?crop=faces&w=560&h=315&fit=crop&v=1496243693&auto=format&q=92&s=acf2d45e7eedc05fdea13838cb68352a',\n",
       "   'ed': 'https://ksr-ugc.imgix.net/assets/016/825/284/f207e0d059e52c9bb9d165fd1b995cf6_original.jpg?crop=faces&w=352&h=198&fit=crop&v=1496243693&auto=format&q=92&s=eb03a2923edd4d8daf928f7f5294705d',\n",
       "   'med': 'https://ksr-ugc.imgix.net/assets/016/825/284/f207e0d059e52c9bb9d165fd1b995cf6_original.jpg?crop=faces&w=272&h=153&fit=crop&v=1496243693&auto=format&q=92&s=a8bffc489f40a15c20eb8876862958df',\n",
       "   'little': 'https://ksr-ugc.imgix.net/assets/016/825/284/f207e0d059e52c9bb9d165fd1b995cf6_original.jpg?crop=faces&w=208&h=117&fit=crop&v=1496243693&auto=format&q=92&s=99aa08313ff094162c7faf63a5989551',\n",
       "   'small': 'https://ksr-ugc.imgix.net/assets/016/825/284/f207e0d059e52c9bb9d165fd1b995cf6_original.jpg?crop=faces&w=160&h=90&fit=crop&v=1496243693&auto=format&q=92&s=505b6882238c3a74ba738ebaa2715e2a',\n",
       "   'thumb': 'https://ksr-ugc.imgix.net/assets/016/825/284/f207e0d059e52c9bb9d165fd1b995cf6_original.jpg?crop=faces&w=48&h=27&fit=crop&v=1496243693&auto=format&q=92&s=93aefc293fa1e0cef7e4b829c155d731',\n",
       "   '1024x576': 'https://ksr-ugc.imgix.net/assets/016/825/284/f207e0d059e52c9bb9d165fd1b995cf6_original.jpg?crop=faces&w=1024&h=576&fit=crop&v=1496243693&auto=format&q=92&s=b2164d5edd1e26540309fb4c9c37aa1c',\n",
       "   '1536x864': 'https://ksr-ugc.imgix.net/assets/016/825/284/f207e0d059e52c9bb9d165fd1b995cf6_original.jpg?crop=faces&w=1552&h=873&fit=crop&v=1496243693&auto=format&q=92&s=c3ab820aa8daef810b50322dd4434146'},\n",
       "  'name': 'Megamark: The Robot That Can Do Everything*',\n",
       "  'blurb': \"The world's only fully-size, affordable, and almost indestructible humanoid robot for art, education, and research.\",\n",
       "  'goal': 15000,\n",
       "  'pledged': 1906,\n",
       "  'state': 'failed',\n",
       "  'slug': 'megamark-the-robot-that-can-do-everything',\n",
       "  'disable_communication': False,\n",
       "  'country': 'US',\n",
       "  'currency': 'USD',\n",
       "  'currency_symbol': '$',\n",
       "  'currency_trailing_code': True,\n",
       "  'deadline': 1498840472,\n",
       "  'state_changed_at': 1498840473,\n",
       "  'created_at': 1495750747,\n",
       "  'launched_at': 1496248472,\n",
       "  'staff_pick': False,\n",
       "  'is_starrable': False,\n",
       "  'backers_count': 12,\n",
       "  'static_usd_rate': 1,\n",
       "  'usd_pledged': '1906.0',\n",
       "  'converted_pledged_amount': 1906,\n",
       "  'fx_rate': 1,\n",
       "  'current_currency': 'USD',\n",
       "  'usd_type': 'international',\n",
       "  'creator': {'id': 1920771188,\n",
       "   'name': 'John Choi',\n",
       "   'slug': 'johnchoi',\n",
       "   'is_registered': True,\n",
       "   'chosen_currency': None,\n",
       "   'avatar': {'thumb': 'https://ksr-ugc.imgix.net/assets/008/049/154/2f27eba972cad180eba4125d191ae2fd_original.jpg?w=40&h=40&fit=crop&v=1495716360&auto=format&q=92&s=83b0300686ae679b229e20383317bd4d',\n",
       "    'small': 'https://ksr-ugc.imgix.net/assets/008/049/154/2f27eba972cad180eba4125d191ae2fd_original.jpg?w=160&h=160&fit=crop&v=1495716360&auto=format&q=92&s=6a16140a7a260de27ffbb9967b2fad3e',\n",
       "    'medium': 'https://ksr-ugc.imgix.net/assets/008/049/154/2f27eba972cad180eba4125d191ae2fd_original.jpg?w=160&h=160&fit=crop&v=1495716360&auto=format&q=92&s=6a16140a7a260de27ffbb9967b2fad3e'},\n",
       "   'urls': {'web': {'user': 'https://www.kickstarter.com/profile/johnchoi'},\n",
       "    'api': {'user': 'https://api.kickstarter.com/v1/users/1920771188?signature=1534479024.08cb193df38fd5c19236e9bda28de88867c215bc'}}},\n",
       "  'location': {'id': 2473224,\n",
       "   'name': 'Pittsburgh',\n",
       "   'slug': 'pittsburgh-pa',\n",
       "   'short_name': 'Pittsburgh, PA',\n",
       "   'displayable_name': 'Pittsburgh, PA',\n",
       "   'localized_name': 'Pittsburgh',\n",
       "   'country': 'US',\n",
       "   'state': 'PA',\n",
       "   'type': 'Town',\n",
       "   'is_root': False,\n",
       "   'urls': {'web': {'discover': 'https://www.kickstarter.com/discover/places/pittsburgh-pa',\n",
       "     'location': 'https://www.kickstarter.com/locations/pittsburgh-pa'},\n",
       "    'api': {'nearby_projects': 'https://api.kickstarter.com/v1/discover?signature=1534457819.aeaa78895f912bab008f454aecfad4523c2d6d79&woe_id=2473224'}}},\n",
       "  'category': {'id': 338,\n",
       "   'name': 'Robots',\n",
       "   'slug': 'technology/robots',\n",
       "   'position': 10,\n",
       "   'parent_id': 16,\n",
       "   'color': 6526716,\n",
       "   'urls': {'web': {'discover': 'http://www.kickstarter.com/discover/categories/technology/robots'}}},\n",
       "  'profile': {'id': 3014815,\n",
       "   'project_id': 3014815,\n",
       "   'state': 'inactive',\n",
       "   'state_changed_at': 1495750747,\n",
       "   'name': None,\n",
       "   'blurb': None,\n",
       "   'background_color': None,\n",
       "   'text_color': None,\n",
       "   'link_background_color': None,\n",
       "   'link_text_color': None,\n",
       "   'link_text': None,\n",
       "   'link_url': None,\n",
       "   'show_feature_image': False,\n",
       "   'background_image_opacity': 0.8,\n",
       "   'should_show_feature_image_section': True,\n",
       "   'feature_image_attributes': {'image_urls': {'default': 'https://ksr-ugc.imgix.net/assets/016/825/284/f207e0d059e52c9bb9d165fd1b995cf6_original.jpg?crop=faces&w=1552&h=873&fit=crop&v=1496243693&auto=format&q=92&s=c3ab820aa8daef810b50322dd4434146',\n",
       "     'baseball_card': 'https://ksr-ugc.imgix.net/assets/016/825/284/f207e0d059e52c9bb9d165fd1b995cf6_original.jpg?crop=faces&w=560&h=315&fit=crop&v=1496243693&auto=format&q=92&s=acf2d45e7eedc05fdea13838cb68352a'}}},\n",
       "  'spotlight': False,\n",
       "  'urls': {'web': {'project': 'https://www.kickstarter.com/projects/johnchoi/megamark-the-robot-that-can-do-everything?ref=category_newest',\n",
       "    'rewards': 'https://www.kickstarter.com/projects/johnchoi/megamark-the-robot-that-can-do-everything/rewards'}}}}"
      ]
     },
     "execution_count": 7,
     "metadata": {},
     "output_type": "execute_result"
    }
   ],
   "source": [
    "with open(filename, encoding='utf8') as file:\n",
    "    for index, line in enumerate(file):\n",
    "        # Read each line and record data in a dictionary\n",
    "        json_obj = json.loads(line)\n",
    "json_obj"
   ]
  },
  {
   "cell_type": "markdown",
   "metadata": {},
   "source": [
    "Reading in one line at a time, decode the JSON object and store it in a dictionary. Next, we'll extract the data using indexing and then store it in a DataFrame."
   ]
  },
  {
   "cell_type": "code",
   "execution_count": 8,
   "metadata": {},
   "outputs": [
    {
     "data": {
      "text/plain": [
       "12.326646089553833"
      ]
     },
     "execution_count": 8,
     "metadata": {},
     "output_type": "execute_result"
    }
   ],
   "source": [
    "# Record start time\n",
    "start = time.time()\n",
    "\n",
    "# Open JSON streaming file\n",
    "with open(filename, encoding='utf8') as file:\n",
    "    for index, line in enumerate(file):\n",
    "        # Read each line and record data in a dictionary\n",
    "        json_obj = json.loads(line)\n",
    "        \n",
    "        # Catch any potential typos or missing keys that can raise a KeyError\n",
    "        try:\n",
    "            df.loc[index, 'name'] = json_obj['data']['name']\n",
    "        except KeyError:\n",
    "            continue \n",
    "        \n",
    "        try:\n",
    "            df.loc[index, 'category'] = json_obj['data']['category']['name']\n",
    "        except KeyError:\n",
    "            continue\n",
    "        \n",
    "        try:\n",
    "            df.loc[index, 'hyperlink'] = json_obj['data']['urls']['web']['project']\n",
    "        except KeyError:\n",
    "            continue\n",
    "        \n",
    "        try:\n",
    "            df.loc[index, 'currency'] = json_obj['data']['currency']\n",
    "        except KeyError:\n",
    "            continue\n",
    "            \n",
    "        try:\n",
    "            df.loc[index, 'pledged'] = json_obj['data']['pledged']\n",
    "        except KeyError:\n",
    "            continue\n",
    "            \n",
    "        try:\n",
    "            df.loc[index, 'goal'] = json_obj['data']['goal']\n",
    "        except KeyError:\n",
    "            continue\n",
    "        \n",
    "        try:\n",
    "            df.loc[index, 'location'] = \\\n",
    "                json_obj['data']['location']['displayable_name']\n",
    "        except KeyError:\n",
    "            continue\n",
    "            \n",
    "# Report elapsed time in seconds\n",
    "time.time() - start"
   ]
  },
  {
   "cell_type": "markdown",
   "metadata": {},
   "source": [
    "**Converting 'pledge' and 'goal' from strings to numeric**"
   ]
  },
  {
   "cell_type": "code",
   "execution_count": 9,
   "metadata": {},
   "outputs": [
    {
     "name": "stdout",
     "output_type": "stream",
     "text": [
      "<class 'pandas.core.frame.DataFrame'>\n",
      "Int64Index: 7884 entries, 0 to 7883\n",
      "Data columns (total 8 columns):\n",
      "name         7884 non-null object\n",
      "category     7884 non-null object\n",
      "hyperlink    7884 non-null object\n",
      "currency     7884 non-null object\n",
      "pledged      7884 non-null float64\n",
      "goal         7884 non-null float64\n",
      "location     7861 non-null object\n",
      "funded       7884 non-null bool\n",
      "dtypes: bool(1), float64(2), object(5)\n",
      "memory usage: 820.4+ KB\n"
     ]
    }
   ],
   "source": [
    "# Convert 'pledged' and 'goal' columns from strings to numeric variables\n",
    "df_project['pledged'] = pd.to_numeric(df_project['pledged'])\n",
    "df_project['goal'] = pd.to_numeric(df_project['goal'])\n",
    "\n",
    "# Define a new column called 'funded' that identifies whether the project was \n",
    "# funded or not\n",
    "df_project['funded'] = df_project['pledged'] > df_project['goal']\n",
    "\n",
    "# Display collected data information\n",
    "df_project.info()"
   ]
  },
  {
   "cell_type": "code",
   "execution_count": 10,
   "metadata": {},
   "outputs": [
    {
     "data": {
      "text/plain": [
       "['testing_1.pk']"
      ]
     },
     "execution_count": 10,
     "metadata": {},
     "output_type": "execute_result"
    }
   ],
   "source": [
    "# Pickling the collected data\n",
    "joblib.dump(df_project, 'testing_1.pk')"
   ]
  },
  {
   "cell_type": "code",
   "execution_count": null,
   "metadata": {},
   "outputs": [],
   "source": []
  }
 ],
 "metadata": {
  "kernelspec": {
   "display_name": "Python 3",
   "language": "python",
   "name": "python3"
  },
  "language_info": {
   "codemirror_mode": {
    "name": "ipython",
    "version": 3
   },
   "file_extension": ".py",
   "mimetype": "text/x-python",
   "name": "python",
   "nbconvert_exporter": "python",
   "pygments_lexer": "ipython3",
   "version": "3.6.6"
  }
 },
 "nbformat": 4,
 "nbformat_minor": 2
}
